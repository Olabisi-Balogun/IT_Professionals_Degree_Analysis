{
 "cells": [
  {
   "cell_type": "markdown",
   "metadata": {},
   "source": [
    "# College Experience Plays a Role in Getting a Job in the Tech Industry"
   ]
  },
  {
   "cell_type": "markdown",
   "metadata": {},
   "source": [
    "The data collected from Stack Overflow 2019 Survey results will be used for this analysis. The analysis aims to investigate the relevance of formal education in the profile of an average IT professional."
   ]
  },
  {
   "cell_type": "markdown",
   "metadata": {},
   "source": [
    "## Business Understanding\n",
    "\n",
    "The questions of interest in this analysis:\n",
    "* 1) What percentage of IT professionals are degree holders?\n",
    "* 2) What are the chances of your getting a role in tech based on your education level?\n",
    "* 3) What is the major course of study for most IT professionals?\n",
    "* 4) What stage of interview is critical to landing a job offer?\n"
   ]
  },
  {
   "cell_type": "code",
   "execution_count": 95,
   "metadata": {},
   "outputs": [],
   "source": [
    "#import libraries\n",
    "import pandas as pd\n",
    "import numpy as np\n",
    "import matplotlib.pyplot as plt\n",
    "import dataframe_image as dfi"
   ]
  },
  {
   "cell_type": "code",
   "execution_count": 2,
   "metadata": {},
   "outputs": [],
   "source": [
    "#load data\n",
    "data = pd.read_csv(\"/Users/olabisibalogun/Downloads/developer_survey_2019/survey_results_public.csv\")"
   ]
  },
  {
   "cell_type": "code",
   "execution_count": 3,
   "metadata": {},
   "outputs": [],
   "source": [
    "data_schema = pd.read_csv(\"/Users/olabisibalogun/Downloads/developer_survey_2019/survey_results_schema.csv\")"
   ]
  },
  {
   "cell_type": "markdown",
   "metadata": {},
   "source": [
    "## Data Understanding\n",
    "* General exploration of the data"
   ]
  },
  {
   "cell_type": "code",
   "execution_count": 4,
   "metadata": {},
   "outputs": [],
   "source": [
    "#data.head()"
   ]
  },
  {
   "cell_type": "code",
   "execution_count": 5,
   "metadata": {},
   "outputs": [],
   "source": [
    "#explore data schema for what different columns stand for\n",
    "#data_schema.head(40)"
   ]
  },
  {
   "cell_type": "code",
   "execution_count": 6,
   "metadata": {},
   "outputs": [],
   "source": [
    "#data_schema['QuestionText'][23]"
   ]
  },
  {
   "cell_type": "code",
   "execution_count": 7,
   "metadata": {},
   "outputs": [
    {
     "data": {
      "text/plain": [
       "(88883, 85)"
      ]
     },
     "execution_count": 7,
     "metadata": {},
     "output_type": "execute_result"
    }
   ],
   "source": [
    "#get number of rows and column\n",
    "data.shape"
   ]
  },
  {
   "cell_type": "code",
   "execution_count": 41,
   "metadata": {},
   "outputs": [
    {
     "data": {
      "text/plain": [
       "Index(['Respondent', 'MainBranch', 'Hobbyist', 'OpenSourcer', 'OpenSource',\n",
       "       'Employment', 'Country', 'Student', 'EdLevel', 'UndergradMajor',\n",
       "       'EduOther', 'OrgSize', 'DevType', 'YearsCode', 'Age1stCode',\n",
       "       'YearsCodePro', 'CareerSat', 'JobSat', 'MgrIdiot', 'MgrMoney',\n",
       "       'MgrWant', 'JobSeek', 'LastHireDate', 'LastInt', 'FizzBuzz',\n",
       "       'JobFactors', 'ResumeUpdate', 'CurrencySymbol', 'CurrencyDesc',\n",
       "       'CompTotal', 'CompFreq', 'ConvertedComp', 'WorkWeekHrs', 'WorkPlan',\n",
       "       'WorkChallenge', 'WorkRemote', 'WorkLoc', 'ImpSyn', 'CodeRev',\n",
       "       'CodeRevHrs', 'UnitTests', 'PurchaseHow', 'PurchaseWhat',\n",
       "       'LanguageWorkedWith', 'LanguageDesireNextYear', 'DatabaseWorkedWith',\n",
       "       'DatabaseDesireNextYear', 'PlatformWorkedWith',\n",
       "       'PlatformDesireNextYear', 'WebFrameWorkedWith',\n",
       "       'WebFrameDesireNextYear', 'MiscTechWorkedWith',\n",
       "       'MiscTechDesireNextYear', 'DevEnviron', 'OpSys', 'Containers',\n",
       "       'BlockchainOrg', 'BlockchainIs', 'BetterLife', 'ITperson', 'OffOn',\n",
       "       'SocialMedia', 'Extraversion', 'ScreenName', 'SOVisit1st',\n",
       "       'SOVisitFreq', 'SOVisitTo', 'SOFindAnswer', 'SOTimeSaved',\n",
       "       'SOHowMuchTime', 'SOAccount', 'SOPartFreq', 'SOJobs', 'EntTeams',\n",
       "       'SOComm', 'WelcomeChange', 'SONewContent', 'Age', 'Gender', 'Trans',\n",
       "       'Sexuality', 'Ethnicity', 'Dependents', 'SurveyLength', 'SurveyEase'],\n",
       "      dtype='object')"
      ]
     },
     "execution_count": 41,
     "metadata": {},
     "output_type": "execute_result"
    }
   ],
   "source": [
    "data.columns"
   ]
  },
  {
   "cell_type": "code",
   "execution_count": 105,
   "metadata": {},
   "outputs": [
    {
     "data": {
      "text/plain": [
       "'get to scrutinize the columns of the dataset. Check data types and see\\ncolumns with missing values'"
      ]
     },
     "execution_count": 105,
     "metadata": {},
     "output_type": "execute_result"
    }
   ],
   "source": [
    "'''get to scrutinize the columns of the dataset. Check data types and see\n",
    "columns with missing values'''\n",
    "\n",
    "#data.info()"
   ]
  },
  {
   "cell_type": "code",
   "execution_count": 44,
   "metadata": {},
   "outputs": [
    {
     "data": {
      "text/html": [
       "<div>\n",
       "<style scoped>\n",
       "    .dataframe tbody tr th:only-of-type {\n",
       "        vertical-align: middle;\n",
       "    }\n",
       "\n",
       "    .dataframe tbody tr th {\n",
       "        vertical-align: top;\n",
       "    }\n",
       "\n",
       "    .dataframe thead th {\n",
       "        text-align: right;\n",
       "    }\n",
       "</style>\n",
       "<table border=\"1\" class=\"dataframe\">\n",
       "  <thead>\n",
       "    <tr style=\"text-align: right;\">\n",
       "      <th></th>\n",
       "      <th>Respondent</th>\n",
       "      <th>CompTotal</th>\n",
       "      <th>ConvertedComp</th>\n",
       "      <th>WorkWeekHrs</th>\n",
       "      <th>CodeRevHrs</th>\n",
       "      <th>Age</th>\n",
       "    </tr>\n",
       "  </thead>\n",
       "  <tbody>\n",
       "    <tr>\n",
       "      <th>count</th>\n",
       "      <td>88883.000000</td>\n",
       "      <td>5.594500e+04</td>\n",
       "      <td>5.582300e+04</td>\n",
       "      <td>64503.000000</td>\n",
       "      <td>49790.000000</td>\n",
       "      <td>79210.000000</td>\n",
       "    </tr>\n",
       "    <tr>\n",
       "      <th>mean</th>\n",
       "      <td>44442.000000</td>\n",
       "      <td>5.519014e+11</td>\n",
       "      <td>1.271107e+05</td>\n",
       "      <td>42.127197</td>\n",
       "      <td>5.084308</td>\n",
       "      <td>30.336699</td>\n",
       "    </tr>\n",
       "    <tr>\n",
       "      <th>std</th>\n",
       "      <td>25658.456325</td>\n",
       "      <td>7.331926e+13</td>\n",
       "      <td>2.841523e+05</td>\n",
       "      <td>37.287610</td>\n",
       "      <td>5.513931</td>\n",
       "      <td>9.178390</td>\n",
       "    </tr>\n",
       "    <tr>\n",
       "      <th>min</th>\n",
       "      <td>1.000000</td>\n",
       "      <td>0.000000e+00</td>\n",
       "      <td>0.000000e+00</td>\n",
       "      <td>1.000000</td>\n",
       "      <td>0.000000</td>\n",
       "      <td>1.000000</td>\n",
       "    </tr>\n",
       "    <tr>\n",
       "      <th>25%</th>\n",
       "      <td>22221.500000</td>\n",
       "      <td>2.000000e+04</td>\n",
       "      <td>2.577750e+04</td>\n",
       "      <td>40.000000</td>\n",
       "      <td>2.000000</td>\n",
       "      <td>24.000000</td>\n",
       "    </tr>\n",
       "    <tr>\n",
       "      <th>50%</th>\n",
       "      <td>44442.000000</td>\n",
       "      <td>6.200000e+04</td>\n",
       "      <td>5.728700e+04</td>\n",
       "      <td>40.000000</td>\n",
       "      <td>4.000000</td>\n",
       "      <td>29.000000</td>\n",
       "    </tr>\n",
       "    <tr>\n",
       "      <th>75%</th>\n",
       "      <td>66662.500000</td>\n",
       "      <td>1.200000e+05</td>\n",
       "      <td>1.000000e+05</td>\n",
       "      <td>44.750000</td>\n",
       "      <td>6.000000</td>\n",
       "      <td>35.000000</td>\n",
       "    </tr>\n",
       "    <tr>\n",
       "      <th>max</th>\n",
       "      <td>88883.000000</td>\n",
       "      <td>1.000000e+16</td>\n",
       "      <td>2.000000e+06</td>\n",
       "      <td>4850.000000</td>\n",
       "      <td>99.000000</td>\n",
       "      <td>99.000000</td>\n",
       "    </tr>\n",
       "  </tbody>\n",
       "</table>\n",
       "</div>"
      ],
      "text/plain": [
       "         Respondent     CompTotal  ConvertedComp   WorkWeekHrs    CodeRevHrs  \\\n",
       "count  88883.000000  5.594500e+04   5.582300e+04  64503.000000  49790.000000   \n",
       "mean   44442.000000  5.519014e+11   1.271107e+05     42.127197      5.084308   \n",
       "std    25658.456325  7.331926e+13   2.841523e+05     37.287610      5.513931   \n",
       "min        1.000000  0.000000e+00   0.000000e+00      1.000000      0.000000   \n",
       "25%    22221.500000  2.000000e+04   2.577750e+04     40.000000      2.000000   \n",
       "50%    44442.000000  6.200000e+04   5.728700e+04     40.000000      4.000000   \n",
       "75%    66662.500000  1.200000e+05   1.000000e+05     44.750000      6.000000   \n",
       "max    88883.000000  1.000000e+16   2.000000e+06   4850.000000     99.000000   \n",
       "\n",
       "                Age  \n",
       "count  79210.000000  \n",
       "mean      30.336699  \n",
       "std        9.178390  \n",
       "min        1.000000  \n",
       "25%       24.000000  \n",
       "50%       29.000000  \n",
       "75%       35.000000  \n",
       "max       99.000000  "
      ]
     },
     "execution_count": 44,
     "metadata": {},
     "output_type": "execute_result"
    }
   ],
   "source": [
    "data.describe()"
   ]
  },
  {
   "cell_type": "markdown",
   "metadata": {},
   "source": [
    "## Data Preparation"
   ]
  },
  {
   "cell_type": "markdown",
   "metadata": {},
   "source": [
    "The columns of interest for this analysis: EdLevel, UndergradMajor, and LastInt. These columns are categorical variables."
   ]
  },
  {
   "cell_type": "code",
   "execution_count": 58,
   "metadata": {},
   "outputs": [],
   "source": [
    "#retrieve needed columns for analysis\n",
    "data_needed = data[['Respondent','Employment','EdLevel','UndergradMajor', 'LastInt']]"
   ]
  },
  {
   "cell_type": "code",
   "execution_count": 59,
   "metadata": {},
   "outputs": [
    {
     "data": {
      "text/html": [
       "<div>\n",
       "<style scoped>\n",
       "    .dataframe tbody tr th:only-of-type {\n",
       "        vertical-align: middle;\n",
       "    }\n",
       "\n",
       "    .dataframe tbody tr th {\n",
       "        vertical-align: top;\n",
       "    }\n",
       "\n",
       "    .dataframe thead th {\n",
       "        text-align: right;\n",
       "    }\n",
       "</style>\n",
       "<table border=\"1\" class=\"dataframe\">\n",
       "  <thead>\n",
       "    <tr style=\"text-align: right;\">\n",
       "      <th></th>\n",
       "      <th>Respondent</th>\n",
       "      <th>Employment</th>\n",
       "      <th>EdLevel</th>\n",
       "      <th>UndergradMajor</th>\n",
       "      <th>LastInt</th>\n",
       "    </tr>\n",
       "  </thead>\n",
       "  <tbody>\n",
       "    <tr>\n",
       "      <th>count</th>\n",
       "      <td>88883.000000</td>\n",
       "      <td>87181</td>\n",
       "      <td>86390</td>\n",
       "      <td>75614</td>\n",
       "      <td>67155</td>\n",
       "    </tr>\n",
       "    <tr>\n",
       "      <th>unique</th>\n",
       "      <td>NaN</td>\n",
       "      <td>6</td>\n",
       "      <td>9</td>\n",
       "      <td>12</td>\n",
       "      <td>63</td>\n",
       "    </tr>\n",
       "    <tr>\n",
       "      <th>top</th>\n",
       "      <td>NaN</td>\n",
       "      <td>Employed full-time</td>\n",
       "      <td>Bachelor’s degree (BA, BS, B.Eng., etc.)</td>\n",
       "      <td>Computer science, computer engineering, or sof...</td>\n",
       "      <td>Interview with people in peer roles;Interview ...</td>\n",
       "    </tr>\n",
       "    <tr>\n",
       "      <th>freq</th>\n",
       "      <td>NaN</td>\n",
       "      <td>64440</td>\n",
       "      <td>39134</td>\n",
       "      <td>47214</td>\n",
       "      <td>12383</td>\n",
       "    </tr>\n",
       "    <tr>\n",
       "      <th>mean</th>\n",
       "      <td>44442.000000</td>\n",
       "      <td>NaN</td>\n",
       "      <td>NaN</td>\n",
       "      <td>NaN</td>\n",
       "      <td>NaN</td>\n",
       "    </tr>\n",
       "    <tr>\n",
       "      <th>std</th>\n",
       "      <td>25658.456325</td>\n",
       "      <td>NaN</td>\n",
       "      <td>NaN</td>\n",
       "      <td>NaN</td>\n",
       "      <td>NaN</td>\n",
       "    </tr>\n",
       "    <tr>\n",
       "      <th>min</th>\n",
       "      <td>1.000000</td>\n",
       "      <td>NaN</td>\n",
       "      <td>NaN</td>\n",
       "      <td>NaN</td>\n",
       "      <td>NaN</td>\n",
       "    </tr>\n",
       "    <tr>\n",
       "      <th>25%</th>\n",
       "      <td>22221.500000</td>\n",
       "      <td>NaN</td>\n",
       "      <td>NaN</td>\n",
       "      <td>NaN</td>\n",
       "      <td>NaN</td>\n",
       "    </tr>\n",
       "    <tr>\n",
       "      <th>50%</th>\n",
       "      <td>44442.000000</td>\n",
       "      <td>NaN</td>\n",
       "      <td>NaN</td>\n",
       "      <td>NaN</td>\n",
       "      <td>NaN</td>\n",
       "    </tr>\n",
       "    <tr>\n",
       "      <th>75%</th>\n",
       "      <td>66662.500000</td>\n",
       "      <td>NaN</td>\n",
       "      <td>NaN</td>\n",
       "      <td>NaN</td>\n",
       "      <td>NaN</td>\n",
       "    </tr>\n",
       "    <tr>\n",
       "      <th>max</th>\n",
       "      <td>88883.000000</td>\n",
       "      <td>NaN</td>\n",
       "      <td>NaN</td>\n",
       "      <td>NaN</td>\n",
       "      <td>NaN</td>\n",
       "    </tr>\n",
       "  </tbody>\n",
       "</table>\n",
       "</div>"
      ],
      "text/plain": [
       "          Respondent          Employment  \\\n",
       "count   88883.000000               87181   \n",
       "unique           NaN                   6   \n",
       "top              NaN  Employed full-time   \n",
       "freq             NaN               64440   \n",
       "mean    44442.000000                 NaN   \n",
       "std     25658.456325                 NaN   \n",
       "min         1.000000                 NaN   \n",
       "25%     22221.500000                 NaN   \n",
       "50%     44442.000000                 NaN   \n",
       "75%     66662.500000                 NaN   \n",
       "max     88883.000000                 NaN   \n",
       "\n",
       "                                         EdLevel  \\\n",
       "count                                      86390   \n",
       "unique                                         9   \n",
       "top     Bachelor’s degree (BA, BS, B.Eng., etc.)   \n",
       "freq                                       39134   \n",
       "mean                                         NaN   \n",
       "std                                          NaN   \n",
       "min                                          NaN   \n",
       "25%                                          NaN   \n",
       "50%                                          NaN   \n",
       "75%                                          NaN   \n",
       "max                                          NaN   \n",
       "\n",
       "                                           UndergradMajor  \\\n",
       "count                                               75614   \n",
       "unique                                                 12   \n",
       "top     Computer science, computer engineering, or sof...   \n",
       "freq                                                47214   \n",
       "mean                                                  NaN   \n",
       "std                                                   NaN   \n",
       "min                                                   NaN   \n",
       "25%                                                   NaN   \n",
       "50%                                                   NaN   \n",
       "75%                                                   NaN   \n",
       "max                                                   NaN   \n",
       "\n",
       "                                                  LastInt  \n",
       "count                                               67155  \n",
       "unique                                                 63  \n",
       "top     Interview with people in peer roles;Interview ...  \n",
       "freq                                                12383  \n",
       "mean                                                  NaN  \n",
       "std                                                   NaN  \n",
       "min                                                   NaN  \n",
       "25%                                                   NaN  \n",
       "50%                                                   NaN  \n",
       "75%                                                   NaN  \n",
       "max                                                   NaN  "
      ]
     },
     "execution_count": 59,
     "metadata": {},
     "output_type": "execute_result"
    }
   ],
   "source": [
    "#generate the descriptive statistics \n",
    "data_needed.describe(include='all')"
   ]
  },
  {
   "cell_type": "code",
   "execution_count": 52,
   "metadata": {},
   "outputs": [],
   "source": [
    "#check columns with missing values\n",
    "columns_with_missing = data_needed.columns[data_needed.isnull().any()].tolist()"
   ]
  },
  {
   "cell_type": "code",
   "execution_count": 53,
   "metadata": {},
   "outputs": [],
   "source": [
    "#get the percentage of missing values in columns of interest\n",
    "percent_missing = (data_needed.isnull().sum()/data_needed.shape[0])*100\n",
    "missing_value_df = pd.DataFrame({'column_name':data_needed.columns, 'percent_missing':percent_missing})\n"
   ]
  },
  {
   "cell_type": "code",
   "execution_count": 54,
   "metadata": {},
   "outputs": [
    {
     "data": {
      "text/plain": [
       "Respondent         0.000000\n",
       "Employment         1.914877\n",
       "EdLevel            2.804811\n",
       "UndergradMajor    14.928614\n",
       "LastInt           24.445620\n",
       "dtype: float64"
      ]
     },
     "execution_count": 54,
     "metadata": {},
     "output_type": "execute_result"
    }
   ],
   "source": [
    "percent_missing"
   ]
  },
  {
   "cell_type": "markdown",
   "metadata": {},
   "source": [
    "### Handling Missing Values\n",
    "The missing data in the columns of interest in this analysis could be due to the respondents that questions of the column does not apply to. To handle the missing values in categorical variables, I will use the 'Create a New Category' method for the missing values.\n",
    "\n",
    "* Advantage: Simple to implement and will not introduce bias\n",
    "* Disadvantage: Not efficient if the percentage of missing values is high. "
   ]
  },
  {
   "cell_type": "code",
   "execution_count": 60,
   "metadata": {},
   "outputs": [],
   "source": [
    "#fill missing values \n",
    "data_needed = data_needed.fillna(\"Unknown\")"
   ]
  },
  {
   "cell_type": "code",
   "execution_count": 61,
   "metadata": {},
   "outputs": [
    {
     "data": {
      "text/html": [
       "<div>\n",
       "<style scoped>\n",
       "    .dataframe tbody tr th:only-of-type {\n",
       "        vertical-align: middle;\n",
       "    }\n",
       "\n",
       "    .dataframe tbody tr th {\n",
       "        vertical-align: top;\n",
       "    }\n",
       "\n",
       "    .dataframe thead th {\n",
       "        text-align: right;\n",
       "    }\n",
       "</style>\n",
       "<table border=\"1\" class=\"dataframe\">\n",
       "  <thead>\n",
       "    <tr style=\"text-align: right;\">\n",
       "      <th></th>\n",
       "      <th>Respondent</th>\n",
       "      <th>Employment</th>\n",
       "      <th>EdLevel</th>\n",
       "      <th>UndergradMajor</th>\n",
       "      <th>LastInt</th>\n",
       "    </tr>\n",
       "  </thead>\n",
       "  <tbody>\n",
       "    <tr>\n",
       "      <th>0</th>\n",
       "      <td>1</td>\n",
       "      <td>Not employed, and not looking for work</td>\n",
       "      <td>Primary/elementary school</td>\n",
       "      <td>Unknown</td>\n",
       "      <td>Unknown</td>\n",
       "    </tr>\n",
       "    <tr>\n",
       "      <th>1</th>\n",
       "      <td>2</td>\n",
       "      <td>Not employed, but looking for work</td>\n",
       "      <td>Secondary school (e.g. American high school, G...</td>\n",
       "      <td>Unknown</td>\n",
       "      <td>Unknown</td>\n",
       "    </tr>\n",
       "    <tr>\n",
       "      <th>2</th>\n",
       "      <td>3</td>\n",
       "      <td>Employed full-time</td>\n",
       "      <td>Bachelor’s degree (BA, BS, B.Eng., etc.)</td>\n",
       "      <td>Web development or web design</td>\n",
       "      <td>Interview with people in peer roles</td>\n",
       "    </tr>\n",
       "    <tr>\n",
       "      <th>3</th>\n",
       "      <td>4</td>\n",
       "      <td>Employed full-time</td>\n",
       "      <td>Bachelor’s degree (BA, BS, B.Eng., etc.)</td>\n",
       "      <td>Computer science, computer engineering, or sof...</td>\n",
       "      <td>Write code by hand (e.g., on a whiteboard);Int...</td>\n",
       "    </tr>\n",
       "    <tr>\n",
       "      <th>4</th>\n",
       "      <td>5</td>\n",
       "      <td>Employed full-time</td>\n",
       "      <td>Bachelor’s degree (BA, BS, B.Eng., etc.)</td>\n",
       "      <td>Computer science, computer engineering, or sof...</td>\n",
       "      <td>Write any code;Write code by hand (e.g., on a ...</td>\n",
       "    </tr>\n",
       "    <tr>\n",
       "      <th>5</th>\n",
       "      <td>6</td>\n",
       "      <td>Employed full-time</td>\n",
       "      <td>Bachelor’s degree (BA, BS, B.Eng., etc.)</td>\n",
       "      <td>Mathematics or statistics</td>\n",
       "      <td>Write any code;Complete a take-home project;In...</td>\n",
       "    </tr>\n",
       "    <tr>\n",
       "      <th>6</th>\n",
       "      <td>7</td>\n",
       "      <td>Independent contractor, freelancer, or self-em...</td>\n",
       "      <td>Bachelor’s degree (BA, BS, B.Eng., etc.)</td>\n",
       "      <td>Another engineering discipline (ex. civil, ele...</td>\n",
       "      <td>Write any code</td>\n",
       "    </tr>\n",
       "    <tr>\n",
       "      <th>7</th>\n",
       "      <td>8</td>\n",
       "      <td>Not employed, but looking for work</td>\n",
       "      <td>Bachelor’s degree (BA, BS, B.Eng., etc.)</td>\n",
       "      <td>Computer science, computer engineering, or sof...</td>\n",
       "      <td>Unknown</td>\n",
       "    </tr>\n",
       "    <tr>\n",
       "      <th>8</th>\n",
       "      <td>9</td>\n",
       "      <td>Employed full-time</td>\n",
       "      <td>Some college/university study without earning ...</td>\n",
       "      <td>Computer science, computer engineering, or sof...</td>\n",
       "      <td>Write any code;Interview with people in peer r...</td>\n",
       "    </tr>\n",
       "    <tr>\n",
       "      <th>9</th>\n",
       "      <td>10</td>\n",
       "      <td>Employed full-time</td>\n",
       "      <td>Master’s degree (MA, MS, M.Eng., MBA, etc.)</td>\n",
       "      <td>Unknown</td>\n",
       "      <td>Unknown</td>\n",
       "    </tr>\n",
       "  </tbody>\n",
       "</table>\n",
       "</div>"
      ],
      "text/plain": [
       "   Respondent                                         Employment  \\\n",
       "0           1             Not employed, and not looking for work   \n",
       "1           2                 Not employed, but looking for work   \n",
       "2           3                                 Employed full-time   \n",
       "3           4                                 Employed full-time   \n",
       "4           5                                 Employed full-time   \n",
       "5           6                                 Employed full-time   \n",
       "6           7  Independent contractor, freelancer, or self-em...   \n",
       "7           8                 Not employed, but looking for work   \n",
       "8           9                                 Employed full-time   \n",
       "9          10                                 Employed full-time   \n",
       "\n",
       "                                             EdLevel  \\\n",
       "0                          Primary/elementary school   \n",
       "1  Secondary school (e.g. American high school, G...   \n",
       "2           Bachelor’s degree (BA, BS, B.Eng., etc.)   \n",
       "3           Bachelor’s degree (BA, BS, B.Eng., etc.)   \n",
       "4           Bachelor’s degree (BA, BS, B.Eng., etc.)   \n",
       "5           Bachelor’s degree (BA, BS, B.Eng., etc.)   \n",
       "6           Bachelor’s degree (BA, BS, B.Eng., etc.)   \n",
       "7           Bachelor’s degree (BA, BS, B.Eng., etc.)   \n",
       "8  Some college/university study without earning ...   \n",
       "9        Master’s degree (MA, MS, M.Eng., MBA, etc.)   \n",
       "\n",
       "                                      UndergradMajor  \\\n",
       "0                                            Unknown   \n",
       "1                                            Unknown   \n",
       "2                      Web development or web design   \n",
       "3  Computer science, computer engineering, or sof...   \n",
       "4  Computer science, computer engineering, or sof...   \n",
       "5                          Mathematics or statistics   \n",
       "6  Another engineering discipline (ex. civil, ele...   \n",
       "7  Computer science, computer engineering, or sof...   \n",
       "8  Computer science, computer engineering, or sof...   \n",
       "9                                            Unknown   \n",
       "\n",
       "                                             LastInt  \n",
       "0                                            Unknown  \n",
       "1                                            Unknown  \n",
       "2                Interview with people in peer roles  \n",
       "3  Write code by hand (e.g., on a whiteboard);Int...  \n",
       "4  Write any code;Write code by hand (e.g., on a ...  \n",
       "5  Write any code;Complete a take-home project;In...  \n",
       "6                                     Write any code  \n",
       "7                                            Unknown  \n",
       "8  Write any code;Interview with people in peer r...  \n",
       "9                                            Unknown  "
      ]
     },
     "execution_count": 61,
     "metadata": {},
     "output_type": "execute_result"
    }
   ],
   "source": [
    "data_needed.head(10)"
   ]
  },
  {
   "cell_type": "code",
   "execution_count": 62,
   "metadata": {},
   "outputs": [
    {
     "data": {
      "text/plain": [
       "Employed full-time                                      64440\n",
       "Independent contractor, freelancer, or self-employed     8511\n",
       "Not employed, but looking for work                       5600\n",
       "Employed part-time                                       4469\n",
       "Not employed, and not looking for work                   3803\n",
       "Unknown                                                  1702\n",
       "Retired                                                   358\n",
       "Name: Employment, dtype: int64"
      ]
     },
     "execution_count": 62,
     "metadata": {},
     "output_type": "execute_result"
    }
   ],
   "source": [
    "#check the unique values for the employment column\n",
    "employment_status = data_needed['Employment'].value_counts()\n",
    "employment_status"
   ]
  },
  {
   "cell_type": "code",
   "execution_count": 63,
   "metadata": {},
   "outputs": [
    {
     "data": {
      "text/plain": [
       "Bachelor’s degree (BA, BS, B.Eng., etc.)                                              39134\n",
       "Master’s degree (MA, MS, M.Eng., MBA, etc.)                                           19569\n",
       "Some college/university study without earning a degree                                10502\n",
       "Secondary school (e.g. American high school, German Realschule or Gymnasium, etc.)     8642\n",
       "Associate degree                                                                       2938\n",
       "Unknown                                                                                2493\n",
       "Other doctoral degree (Ph.D, Ed.D., etc.)                                              2432\n",
       "Primary/elementary school                                                              1422\n",
       "Professional degree (JD, MD, etc.)                                                     1198\n",
       "I never completed any formal education                                                  553\n",
       "Name: EdLevel, dtype: int64"
      ]
     },
     "execution_count": 63,
     "metadata": {},
     "output_type": "execute_result"
    }
   ],
   "source": [
    "#check the unique values for the educational level column\n",
    "education_level = data_needed['EdLevel'].value_counts()\n",
    "education_level"
   ]
  },
  {
   "cell_type": "code",
   "execution_count": 64,
   "metadata": {},
   "outputs": [
    {
     "data": {
      "text/plain": [
       "Computer science, computer engineering, or software engineering          47214\n",
       "Unknown                                                                  13269\n",
       "Another engineering discipline (ex. civil, electrical, mechanical)        6222\n",
       "Information systems, information technology, or system administration     5253\n",
       "Web development or web design                                             3422\n",
       "A natural science (ex. biology, chemistry, physics)                       3232\n",
       "Mathematics or statistics                                                 2975\n",
       "A business discipline (ex. accounting, finance, marketing)                1841\n",
       "A humanities discipline (ex. literature, history, philosophy)             1571\n",
       "A social science (ex. anthropology, psychology, political science)        1352\n",
       "Fine arts or performing arts (ex. graphic design, music, studio art)      1233\n",
       "I never declared a major                                                   976\n",
       "A health science (ex. nursing, pharmacy, radiology)                        323\n",
       "Name: UndergradMajor, dtype: int64"
      ]
     },
     "execution_count": 64,
     "metadata": {},
     "output_type": "execute_result"
    }
   ],
   "source": [
    "#check the unique values for the undergraduate major column\n",
    "undergrad_major = data_needed['UndergradMajor'].value_counts()\n",
    "undergrad_major"
   ]
  },
  {
   "cell_type": "code",
   "execution_count": 65,
   "metadata": {},
   "outputs": [
    {
     "data": {
      "text/plain": [
       "Text(0.5,1,'Education Level')"
      ]
     },
     "execution_count": 65,
     "metadata": {},
     "output_type": "execute_result"
    },
    {
     "data": {
      "image/png": "[encoded data removed]",
      "text/plain": [
       "<Figure size 432x288 with 1 Axes>"
      ]
     },
     "metadata": {
      "needs_background": "light"
     },
     "output_type": "display_data"
    }
   ],
   "source": [
    "#basic exploration of the columns of interest\n",
    "education_level = data_needed['EdLevel'].value_counts()\n",
    "\n",
    "(education_level/data_needed.shape[0]).plot(kind=\"bar\")\n",
    "plt.title(\"Education Level\")"
   ]
  },
  {
   "cell_type": "code",
   "execution_count": 66,
   "metadata": {},
   "outputs": [
    {
     "data": {
      "text/plain": [
       "Bachelor’s degree (BA, BS, B.Eng., etc.)                                              44.03\n",
       "Master’s degree (MA, MS, M.Eng., MBA, etc.)                                           22.02\n",
       "Some college/university study without earning a degree                                11.82\n",
       "Secondary school (e.g. American high school, German Realschule or Gymnasium, etc.)     9.72\n",
       "Associate degree                                                                       3.31\n",
       "Unknown                                                                                2.80\n",
       "Other doctoral degree (Ph.D, Ed.D., etc.)                                              2.74\n",
       "Primary/elementary school                                                              1.60\n",
       "Professional degree (JD, MD, etc.)                                                     1.35\n",
       "I never completed any formal education                                                 0.62\n",
       "Name: EdLevel, dtype: float64"
      ]
     },
     "execution_count": 66,
     "metadata": {},
     "output_type": "execute_result"
    }
   ],
   "source": [
    "edlevel_percentage = ((education_level/data_needed.shape[0] )*100).round(2)\n",
    "edlevel_percentage\n"
   ]
  },
  {
   "cell_type": "code",
   "execution_count": 67,
   "metadata": {},
   "outputs": [
    {
     "data": {
      "text/plain": [
       "Text(0.5,1,'Employment Status')"
      ]
     },
     "execution_count": 67,
     "metadata": {},
     "output_type": "execute_result"
    },
    {
     "data": {
      "image/png": "[encoded data removed]",
      "text/plain": [
       "<Figure size 432x288 with 1 Axes>"
      ]
     },
     "metadata": {
      "needs_background": "light"
     },
     "output_type": "display_data"
    }
   ],
   "source": [
    "employment_status = data_needed['Employment'].value_counts()\n",
    "\n",
    "(employment_status/data_needed.shape[0]).plot(kind=\"bar\")\n",
    "plt.title(\"Employment Status\")"
   ]
  },
  {
   "cell_type": "code",
   "execution_count": 68,
   "metadata": {},
   "outputs": [],
   "source": [
    "employment_percent = ((employment_status/data_needed.shape[0] )*100).round(2)"
   ]
  },
  {
   "cell_type": "code",
   "execution_count": 69,
   "metadata": {},
   "outputs": [
    {
     "data": {
      "text/plain": [
       "Employed full-time                                      72.50\n",
       "Independent contractor, freelancer, or self-employed     9.58\n",
       "Not employed, but looking for work                       6.30\n",
       "Employed part-time                                       5.03\n",
       "Not employed, and not looking for work                   4.28\n",
       "Unknown                                                  1.91\n",
       "Retired                                                  0.40\n",
       "Name: Employment, dtype: float64"
      ]
     },
     "execution_count": 69,
     "metadata": {},
     "output_type": "execute_result"
    }
   ],
   "source": [
    "employment_percent"
   ]
  },
  {
   "cell_type": "markdown",
   "metadata": {},
   "source": [
    "From the data exploration above, we can see that about 73% of Stack Overflow users are employed full time. Based on this, I will conduct varying analysis. First, let's see percentage of full-time employees that have a degree."
   ]
  },
  {
   "cell_type": "markdown",
   "metadata": {},
   "source": [
    "### Question 1: What percentage of IT professionals are degree holders?"
   ]
  },
  {
   "cell_type": "code",
   "execution_count": 70,
   "metadata": {},
   "outputs": [],
   "source": [
    "#group respondents by employment and education level columns.\n",
    "by_employ_edlevel = data_needed.groupby(['Employment','EdLevel']).agg('count')"
   ]
  },
  {
   "cell_type": "code",
   "execution_count": 71,
   "metadata": {},
   "outputs": [],
   "source": [
    "#flatten the dataframe\n",
    "by_employ_edlevel = by_employ_edlevel.reset_index()\n",
    "by_employ_edlevel = by_employ_edlevel[['Employment','EdLevel','Respondent']]"
   ]
  },
  {
   "cell_type": "code",
   "execution_count": 24,
   "metadata": {},
   "outputs": [],
   "source": [
    "#by_employ_edlevel.head()"
   ]
  },
  {
   "cell_type": "markdown",
   "metadata": {},
   "source": [
    "We dissect the 'by_employ_edlevel' dataframe by employment status then visualize the education level of individuals under each group."
   ]
  },
  {
   "cell_type": "code",
   "execution_count": 72,
   "metadata": {},
   "outputs": [
    {
     "data": {
      "image/png": "[encoded data removed]",
      "text/plain": [
       "<Figure size 1152x648 with 1 Axes>"
      ]
     },
     "metadata": {
      "needs_background": "light"
     },
     "output_type": "display_data"
    }
   ],
   "source": [
    "\n",
    "def plot_by_employment_status(df, status = 'Employed full-time'):\n",
    "    '''\n",
    "        INPUT: a dataframe and an employment status\n",
    "        \n",
    "        TASK: the function dissects the dataframe according to the employment status\n",
    "        and creates a horizontal bar chart. For this analysis, employment status- full-time\n",
    "        and searching are the concentration.\n",
    "        \n",
    "        OUTPUT: an annotated horizontal bar chart that compared the percentage of different\n",
    "        levels of education based on their employment status\n",
    "        \n",
    "    '''\n",
    "    #set size of plot\n",
    "    fig,ax = plt.subplots(figsize=(16,9))\n",
    "    df = df[df['Employment']==status]\n",
    "    #Horizontal bar plot\n",
    "    ax.barh(df['EdLevel'],(df['Respondent']/np.sum(df['Respondent']))*100)\n",
    "    #remove axes splines\n",
    "    for s in ['top','bottom','left','right']:\n",
    "        ax.spines[s].set_visible(False)\n",
    "\n",
    "    #remove x,y Ticks\n",
    "    ax.xaxis.set_ticks_position('none')\n",
    "    ax.yaxis.set_ticks_position('none')\n",
    "\n",
    "    #add padding between axes and labels\n",
    "    ax.xaxis.set_tick_params(pad=5)\n",
    "    ax.yaxis.set_tick_params(pad =10)\n",
    "\n",
    "    #Add x, y gridlines\n",
    "    ax.grid(b=True, color='grey',linestyle='-.',linewidth=0.5, alpha=0.2)\n",
    "\n",
    "    #show top values\n",
    "    ax.invert_yaxis()\n",
    "\n",
    "    #add annotation to bars\n",
    "    for i in ax.patches:\n",
    "        plt.text(i.get_width()+0.2, i.get_y()+0.5,\n",
    "                 (str(round((i.get_width()),2))+'%'),\n",
    "                fontsize=10, fontweight='bold',color='grey')\n",
    "    return ax\n",
    "\n",
    "\n",
    "\n",
    "ax = plot_by_employment_status(by_employ_edlevel)\n",
    "#add plot title\n",
    "ax.set_title(\"Education Level of Full-time Employees\", loc=\"left\")\n",
    "#store plot\n",
    "fig = plt.gcf()\n",
    "#show plot\n",
    "plt.show()\n",
    "fig.savefig('education.png', bbox_inches='tight')\n",
    "\n"
   ]
  },
  {
   "cell_type": "markdown",
   "metadata": {},
   "source": [
    "Let's see the education levels of professional searching for work."
   ]
  },
  {
   "cell_type": "code",
   "execution_count": 73,
   "metadata": {},
   "outputs": [
    {
     "data": {
      "image/png": "[encoded data removed]",
      "text/plain": [
       "<Figure size 1152x648 with 1 Axes>"
      ]
     },
     "metadata": {
      "needs_background": "light"
     },
     "output_type": "display_data"
    }
   ],
   "source": [
    "ax = plot_by_employment_status(by_employ_edlevel, status='Not employed, but looking for work')\n",
    "#add plot title\n",
    "ax.set_title(\"Education Level of Professionals Searching for a Role\", loc=\"left\")\n",
    "#show plot\n",
    "plt.show()"
   ]
  },
  {
   "cell_type": "markdown",
   "metadata": {},
   "source": [
    "Let's compare the proportion of individuals reportedly working full-time and those searching for a role. That could tell us about the chances of getting a role based on your education level."
   ]
  },
  {
   "cell_type": "markdown",
   "metadata": {},
   "source": [
    "### Question 2: What are the chances of your getting a role in tech based on your education level?"
   ]
  },
  {
   "cell_type": "code",
   "execution_count": 74,
   "metadata": {},
   "outputs": [],
   "source": [
    "#subset data for full-time employees\n",
    "df_full_time= by_employ_edlevel[by_employ_edlevel['Employment']=='Employed full-time']"
   ]
  },
  {
   "cell_type": "code",
   "execution_count": 75,
   "metadata": {},
   "outputs": [],
   "source": [
    "#subset data for individuals looking for work\n",
    "df_searching= by_employ_edlevel[by_employ_edlevel['Employment']=='Not employed, but looking for work']"
   ]
  },
  {
   "cell_type": "code",
   "execution_count": 102,
   "metadata": {},
   "outputs": [],
   "source": [
    "'''calculate the ratio of individuals employed full-time \n",
    "to individuals looking for work based on their degree level. \n",
    "A dataframe will be created to display for \n",
    "every 100 individuals within an education level looking a for a job, \n",
    "the corresponding number of individuals working full-time with the \n",
    "same level of education'''\n",
    "\n",
    "ratio = np.divide(df_full_time['Respondent'],df_searching['Respondent'])\n",
    "list_series = [df_full_time['EdLevel'],ratio.round(2)]\n",
    "df_ratio = (pd.concat(list_series, axis=1))\n",
    "df_ratio = df_ratio.rename(columns={'EdLevel':'Education_Level','Respondent':'Respondent_Per_100'})"
   ]
  },
  {
   "cell_type": "code",
   "execution_count": 103,
   "metadata": {},
   "outputs": [
    {
     "data": {
      "text/html": [
       "<div>\n",
       "<style scoped>\n",
       "    .dataframe tbody tr th:only-of-type {\n",
       "        vertical-align: middle;\n",
       "    }\n",
       "\n",
       "    .dataframe tbody tr th {\n",
       "        vertical-align: top;\n",
       "    }\n",
       "\n",
       "    .dataframe thead th {\n",
       "        text-align: right;\n",
       "    }\n",
       "</style>\n",
       "<table border=\"1\" class=\"dataframe\">\n",
       "  <thead>\n",
       "    <tr style=\"text-align: right;\">\n",
       "      <th></th>\n",
       "      <th>Education_Level</th>\n",
       "      <th>Respondent_Per_100</th>\n",
       "    </tr>\n",
       "  </thead>\n",
       "  <tbody>\n",
       "    <tr>\n",
       "      <th>0</th>\n",
       "      <td>Associate degree</td>\n",
       "      <td>9.84</td>\n",
       "    </tr>\n",
       "    <tr>\n",
       "      <th>1</th>\n",
       "      <td>Bachelor’s degree (BA, BS, B.Eng., etc.)</td>\n",
       "      <td>16.38</td>\n",
       "    </tr>\n",
       "    <tr>\n",
       "      <th>2</th>\n",
       "      <td>I never completed any formal education</td>\n",
       "      <td>6.90</td>\n",
       "    </tr>\n",
       "    <tr>\n",
       "      <th>3</th>\n",
       "      <td>Master’s degree (MA, MS, M.Eng., MBA, etc.)</td>\n",
       "      <td>30.85</td>\n",
       "    </tr>\n",
       "    <tr>\n",
       "      <th>4</th>\n",
       "      <td>Other doctoral degree (Ph.D, Ed.D., etc.)</td>\n",
       "      <td>35.95</td>\n",
       "    </tr>\n",
       "    <tr>\n",
       "      <th>5</th>\n",
       "      <td>Primary/elementary school</td>\n",
       "      <td>1.72</td>\n",
       "    </tr>\n",
       "    <tr>\n",
       "      <th>6</th>\n",
       "      <td>Professional degree (JD, MD, etc.)</td>\n",
       "      <td>18.79</td>\n",
       "    </tr>\n",
       "    <tr>\n",
       "      <th>7</th>\n",
       "      <td>Secondary school (e.g. American high school, G...</td>\n",
       "      <td>2.02</td>\n",
       "    </tr>\n",
       "    <tr>\n",
       "      <th>8</th>\n",
       "      <td>Some college/university study without earning ...</td>\n",
       "      <td>7.65</td>\n",
       "    </tr>\n",
       "    <tr>\n",
       "      <th>9</th>\n",
       "      <td>Unknown</td>\n",
       "      <td>4.69</td>\n",
       "    </tr>\n",
       "  </tbody>\n",
       "</table>\n",
       "</div>"
      ],
      "text/plain": [
       "                                     Education_Level  Respondent_Per_100\n",
       "0                                   Associate degree                9.84\n",
       "1           Bachelor’s degree (BA, BS, B.Eng., etc.)               16.38\n",
       "2             I never completed any formal education                6.90\n",
       "3        Master’s degree (MA, MS, M.Eng., MBA, etc.)               30.85\n",
       "4          Other doctoral degree (Ph.D, Ed.D., etc.)               35.95\n",
       "5                          Primary/elementary school                1.72\n",
       "6                 Professional degree (JD, MD, etc.)               18.79\n",
       "7  Secondary school (e.g. American high school, G...                2.02\n",
       "8  Some college/university study without earning ...                7.65\n",
       "9                                            Unknown                4.69"
      ]
     },
     "execution_count": 103,
     "metadata": {},
     "output_type": "execute_result"
    }
   ],
   "source": [
    "df_ratio"
   ]
  },
  {
   "cell_type": "code",
   "execution_count": 104,
   "metadata": {},
   "outputs": [
    {
     "data": {
      "text/html": [
       "<div>\n",
       "<style scoped>\n",
       "    .dataframe tbody tr th:only-of-type {\n",
       "        vertical-align: middle;\n",
       "    }\n",
       "\n",
       "    .dataframe tbody tr th {\n",
       "        vertical-align: top;\n",
       "    }\n",
       "\n",
       "    .dataframe thead th {\n",
       "        text-align: right;\n",
       "    }\n",
       "</style>\n",
       "<table border=\"1\" class=\"dataframe\">\n",
       "  <thead>\n",
       "    <tr style=\"text-align: right;\">\n",
       "      <th></th>\n",
       "      <th>Education_Level</th>\n",
       "      <th>Respondent_Per_100</th>\n",
       "    </tr>\n",
       "  </thead>\n",
       "  <tbody>\n",
       "    <tr>\n",
       "      <th>0</th>\n",
       "      <td>Associate degree</td>\n",
       "      <td>9.84</td>\n",
       "    </tr>\n",
       "    <tr>\n",
       "      <th>1</th>\n",
       "      <td>Bachelor’s degree (BA, BS, B.Eng., etc.)</td>\n",
       "      <td>16.38</td>\n",
       "    </tr>\n",
       "    <tr>\n",
       "      <th>2</th>\n",
       "      <td>I never completed any formal education</td>\n",
       "      <td>6.90</td>\n",
       "    </tr>\n",
       "    <tr>\n",
       "      <th>3</th>\n",
       "      <td>Master’s degree (MA, MS, M.Eng., MBA, etc.)</td>\n",
       "      <td>30.85</td>\n",
       "    </tr>\n",
       "    <tr>\n",
       "      <th>4</th>\n",
       "      <td>Other doctoral degree (Ph.D, Ed.D., etc.)</td>\n",
       "      <td>35.95</td>\n",
       "    </tr>\n",
       "    <tr>\n",
       "      <th>5</th>\n",
       "      <td>Primary/elementary school</td>\n",
       "      <td>1.72</td>\n",
       "    </tr>\n",
       "    <tr>\n",
       "      <th>6</th>\n",
       "      <td>Professional degree (JD, MD, etc.)</td>\n",
       "      <td>18.79</td>\n",
       "    </tr>\n",
       "    <tr>\n",
       "      <th>7</th>\n",
       "      <td>Secondary school (e.g. American high school, G...</td>\n",
       "      <td>2.02</td>\n",
       "    </tr>\n",
       "    <tr>\n",
       "      <th>8</th>\n",
       "      <td>Some college/university study without earning ...</td>\n",
       "      <td>7.65</td>\n",
       "    </tr>\n",
       "  </tbody>\n",
       "</table>\n",
       "</div>"
      ],
      "text/plain": [
       "                                     Education_Level  Respondent_Per_100\n",
       "0                                   Associate degree                9.84\n",
       "1           Bachelor’s degree (BA, BS, B.Eng., etc.)               16.38\n",
       "2             I never completed any formal education                6.90\n",
       "3        Master’s degree (MA, MS, M.Eng., MBA, etc.)               30.85\n",
       "4          Other doctoral degree (Ph.D, Ed.D., etc.)               35.95\n",
       "5                          Primary/elementary school                1.72\n",
       "6                 Professional degree (JD, MD, etc.)               18.79\n",
       "7  Secondary school (e.g. American high school, G...                2.02\n",
       "8  Some college/university study without earning ...                7.65"
      ]
     },
     "execution_count": 104,
     "metadata": {},
     "output_type": "execute_result"
    }
   ],
   "source": [
    "#drop the 'unknown' row as it is not important for the insight\n",
    "df_ratio = df_ratio[df_ratio.Education_Level != 'Unknown']\n",
    "df_ratio"
   ]
  },
  {
   "cell_type": "code",
   "execution_count": 101,
   "metadata": {},
   "outputs": [],
   "source": [
    "#export ratio dataframe\n",
    "dfi.export(df_ratio, 'ratio_table')"
   ]
  },
  {
   "cell_type": "markdown",
   "metadata": {},
   "source": [
    "It can be deduced from the table above that for every 100 persons looking for work, there is high chance of getting a job if you have some sort of college experience compared to someone without any college experience. The table also shows that the chances are higher for someone with an advanced degree."
   ]
  },
  {
   "cell_type": "markdown",
   "metadata": {},
   "source": [
    "Let's analyse the data to see the course of study of most IT professionals."
   ]
  },
  {
   "cell_type": "markdown",
   "metadata": {},
   "source": [
    "### Question 3: What is the major course of study for most IT professionals?"
   ]
  },
  {
   "cell_type": "code",
   "execution_count": 86,
   "metadata": {},
   "outputs": [],
   "source": [
    "#group respondents by employment and undergrad columns.\n",
    "by_employ_major = data_needed.groupby(['Employment','UndergradMajor']).agg('count')"
   ]
  },
  {
   "cell_type": "code",
   "execution_count": 87,
   "metadata": {},
   "outputs": [],
   "source": [
    "#flatten the dataframe\n",
    "by_employ_major = by_employ_major.reset_index()\n",
    "by_employ_major = by_employ_major[['Employment','UndergradMajor','Respondent']]"
   ]
  },
  {
   "cell_type": "code",
   "execution_count": 88,
   "metadata": {},
   "outputs": [
    {
     "data": {
      "image/png": "[encoded data removed]",
      "text/plain": [
       "<Figure size 1152x648 with 1 Axes>"
      ]
     },
     "metadata": {
      "needs_background": "light"
     },
     "output_type": "display_data"
    }
   ],
   "source": [
    "def plot_by_employment_status_major(df, status = 'Employed full-time'):\n",
    "    '''\n",
    "        INPUT: a dataframe and an employment status\n",
    "        \n",
    "        TASK: the function dissects the dataframe according to the employment status\n",
    "        and creates a horizontal bar chart based on the undergraduate major. For this analysis, employment status- full-time\n",
    "        and searching are the concentration.\n",
    "        \n",
    "        OUTPUT: an annotated horizontal bar chart that compared the percentage of different \n",
    "        undergraduate majors based on the status of employment\n",
    "    '''\n",
    "    #set size of plot\n",
    "    fig,ax = plt.subplots(figsize=(16,9))\n",
    "    df = df[df['Employment']==status]\n",
    "    #Horizontal bar plot\n",
    "    ax.barh(df['UndergradMajor'],(df['Respondent']/np.sum(df['Respondent']))*100)\n",
    "    #remove axes splines\n",
    "    for s in ['top','bottom','left','right']:\n",
    "        ax.spines[s].set_visible(False)\n",
    "\n",
    "    #remove x,y Ticks\n",
    "    ax.xaxis.set_ticks_position('none')\n",
    "    ax.yaxis.set_ticks_position('none')\n",
    "\n",
    "    #add padding between axes and labels\n",
    "    ax.xaxis.set_tick_params(pad=5)\n",
    "    ax.yaxis.set_tick_params(pad =10)\n",
    "\n",
    "    #Add x, y gridlines\n",
    "    ax.grid(b=True, color='grey',linestyle='-.',linewidth=0.5, alpha=0.2)\n",
    "\n",
    "    #show top values\n",
    "    ax.invert_yaxis()\n",
    "\n",
    "    #add annotation to bars\n",
    "    for i in ax.patches:\n",
    "        plt.text(i.get_width()+0.2, i.get_y()+0.5,\n",
    "                 (str(round((i.get_width()),2))+'%'),\n",
    "                fontsize=10, fontweight='bold',color='grey')\n",
    "    return ax\n",
    "\n",
    "\n",
    "\n",
    "ax = plot_by_employment_status_major(by_employ_major)\n",
    "#add plot title\n",
    "ax.set_title(\"Undergrad Major of Full-time Employees\", loc=\"left\")\n",
    "#store plot\n",
    "fig = plt.gcf()\n",
    "#show plot\n",
    "plt.show()\n",
    "fig.savefig('major.png', bbox_inches='tight')"
   ]
  },
  {
   "cell_type": "markdown",
   "metadata": {},
   "source": [
    "Individuals that have successfully landed a role shared the task they had to complete in the interview process. What step in interview process was mostly required?"
   ]
  },
  {
   "cell_type": "markdown",
   "metadata": {},
   "source": [
    "### Question 4: What stage of interview is critical to landing a job offer?"
   ]
  },
  {
   "cell_type": "code",
   "execution_count": 89,
   "metadata": {},
   "outputs": [],
   "source": [
    "#check the choices for the interview tasks column\n",
    "interview_task = data_needed[\"LastInt\"].value_counts()\n",
    "#interview_task"
   ]
  },
  {
   "cell_type": "code",
   "execution_count": 90,
   "metadata": {},
   "outputs": [],
   "source": [
    "#clean the LastInt column and create a dataframe off it\n",
    "possible_interview_task = [\"Interview with people in peer roles\",\n",
    "                           \"Interview with people in senior / management roles\",\n",
    "                          \"Write any code\",\"Write code by hand\",\n",
    "                          \"Complete a take-home project\",\"Solve a brain-teaser style puzzle\"]\n",
    "\n",
    "def clean (df, title = 'Interview Tasks'):\n",
    "    '''\n",
    "        INPUT: a dataframe that consist of semi-structured data of possible interview tasks\n",
    "        \n",
    "        TASK: the function cleans the dataframe and preprocess the data in the dataframe to account\n",
    "        for the frequency of each possible task that could land one a job offer\n",
    "        \n",
    "        OUTPUT: a table of list of interview tasks sorted in descending order\n",
    "        \n",
    "    '''\n",
    "    \n",
    "    interview = df['LastInt'].value_counts().reset_index()\n",
    "    interview.rename(columns={'index':'task','LastInt':'count'}, inplace=True)\n",
    "    \n",
    "    interview_task_dict = {}\n",
    "    \n",
    "    for task in possible_interview_task:\n",
    "        count = np.sum(df['LastInt'].str.count(task))\n",
    "        interview_task_dict[task] = count  \n",
    "    \n",
    "    interview_task_df = pd.DataFrame(list(interview_task_dict.items()),\n",
    "                                     columns=['interview_task','count'])\n",
    "            \n",
    " \n",
    "    return interview_task_df\n",
    "\n",
    "interview = clean(data_needed)\n",
    "percent = (interview['count']/np.sum(interview['count']))*100\n",
    "interview['percent'] = percent\n",
    "interview = interview[['interview_task','percent']]\n",
    "interview.sort_values(by=['percent'], inplace=True, ascending=False)"
   ]
  },
  {
   "cell_type": "code",
   "execution_count": 91,
   "metadata": {},
   "outputs": [
    {
     "data": {
      "text/html": [
       "<div>\n",
       "<style scoped>\n",
       "    .dataframe tbody tr th:only-of-type {\n",
       "        vertical-align: middle;\n",
       "    }\n",
       "\n",
       "    .dataframe tbody tr th {\n",
       "        vertical-align: top;\n",
       "    }\n",
       "\n",
       "    .dataframe thead th {\n",
       "        text-align: right;\n",
       "    }\n",
       "</style>\n",
       "<table border=\"1\" class=\"dataframe\">\n",
       "  <thead>\n",
       "    <tr style=\"text-align: right;\">\n",
       "      <th></th>\n",
       "      <th>interview_task</th>\n",
       "      <th>percent</th>\n",
       "    </tr>\n",
       "  </thead>\n",
       "  <tbody>\n",
       "    <tr>\n",
       "      <th>1</th>\n",
       "      <td>Interview with people in senior / management r...</td>\n",
       "      <td>31.970157</td>\n",
       "    </tr>\n",
       "    <tr>\n",
       "      <th>0</th>\n",
       "      <td>Interview with people in peer roles</td>\n",
       "      <td>24.071989</td>\n",
       "    </tr>\n",
       "    <tr>\n",
       "      <th>2</th>\n",
       "      <td>Write any code</td>\n",
       "      <td>15.532629</td>\n",
       "    </tr>\n",
       "    <tr>\n",
       "      <th>3</th>\n",
       "      <td>Write code by hand</td>\n",
       "      <td>11.073909</td>\n",
       "    </tr>\n",
       "    <tr>\n",
       "      <th>4</th>\n",
       "      <td>Complete a take-home project</td>\n",
       "      <td>9.667670</td>\n",
       "    </tr>\n",
       "    <tr>\n",
       "      <th>5</th>\n",
       "      <td>Solve a brain-teaser style puzzle</td>\n",
       "      <td>7.683647</td>\n",
       "    </tr>\n",
       "  </tbody>\n",
       "</table>\n",
       "</div>"
      ],
      "text/plain": [
       "                                      interview_task    percent\n",
       "1  Interview with people in senior / management r...  31.970157\n",
       "0                Interview with people in peer roles  24.071989\n",
       "2                                     Write any code  15.532629\n",
       "3                                 Write code by hand  11.073909\n",
       "4                       Complete a take-home project   9.667670\n",
       "5                  Solve a brain-teaser style puzzle   7.683647"
      ]
     },
     "execution_count": 91,
     "metadata": {},
     "output_type": "execute_result"
    }
   ],
   "source": [
    "interview"
   ]
  },
  {
   "cell_type": "code",
   "execution_count": 92,
   "metadata": {},
   "outputs": [
    {
     "data": {
      "text/plain": [
       "Text(0,0.5,'Frequency')"
      ]
     },
     "execution_count": 92,
     "metadata": {},
     "output_type": "execute_result"
    },
    {
     "data": {
      "image/png": "[encoded data removed]",
      "text/plain": [
       "<Figure size 432x288 with 1 Axes>"
      ]
     },
     "metadata": {
      "needs_background": "light"
     },
     "output_type": "display_data"
    }
   ],
   "source": [
    "#visualize the interview tasks\n",
    "interview.plot.bar(x=\"interview_task\",rot=90)\n",
    "plt.title(\"Interview Tasks Reported\")\n",
    "plt.xlabel(\"Interview Tasks\")\n",
    "plt.ylabel(\"Frequency\")"
   ]
  },
  {
   "cell_type": "markdown",
   "metadata": {},
   "source": [
    "From the table and the chart, interviews with peers and senior management are critical in securing a position in an organisation."
   ]
  },
  {
   "cell_type": "code",
   "execution_count": null,
   "metadata": {},
   "outputs": [],
   "source": []
  }
 ],
 "metadata": {
  "kernelspec": {
   "display_name": "Python 3",
   "language": "python",
   "name": "python3"
  },
  "language_info": {
   "codemirror_mode": {
    "name": "ipython",
    "version": 3
   },
   "file_extension": ".py",
   "mimetype": "text/x-python",
   "name": "python",
   "nbconvert_exporter": "python",
   "pygments_lexer": "ipython3",
   "version": "3.7.2"
  }
 },
 "nbformat": 4,
 "nbformat_minor": 2
}
